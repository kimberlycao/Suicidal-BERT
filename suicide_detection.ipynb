{
  "cells": [
    {
      "cell_type": "markdown",
      "source": [
        "# Install and Import Necessary Dependencies"
      ],
      "metadata": {
        "id": "ta2vkTx4-j_p"
      }
    },
    {
      "cell_type": "code",
      "execution_count": null,
      "metadata": {
        "scrolled": true,
        "id": "Gxo-WWsF5ccd"
      },
      "outputs": [],
      "source": [
        "!pip install torch\n",
        "!pip install transformers pandas numpy"
      ]
    },
    {
      "cell_type": "code",
      "execution_count": 2,
      "metadata": {
        "id": "pdXdqlvq5ccg"
      },
      "outputs": [],
      "source": [
        "from transformers import AutoTokenizer, AutoModelForSequenceClassification\n",
        "import torch\n",
        "import re"
      ]
    },
    {
      "cell_type": "markdown",
      "source": [
        "# Instantiate Model"
      ],
      "metadata": {
        "id": "y3GVWfLRAxT1"
      }
    },
    {
      "cell_type": "code",
      "source": [
        "tokenizer = AutoTokenizer.from_pretrained('nlptown/bert-base-multilingual-uncased-sentiment')\n",
        "model = AutoModelForSequenceClassification.from_pretrained('nlptown/bert-base-multilingual-uncased-sentiment')"
      ],
      "metadata": {
        "id": "HfIN6jNWA5_I"
      },
      "execution_count": null,
      "outputs": []
    },
    {
      "cell_type": "markdown",
      "source": [
        "# Load and Preprocess Data"
      ],
      "metadata": {
        "id": "UyzciWh6BhcH"
      }
    },
    {
      "cell_type": "code",
      "source": [],
      "metadata": {
        "id": "7Of9JGEsByY6"
      },
      "execution_count": null,
      "outputs": []
    }
  ],
  "metadata": {
    "kernelspec": {
      "display_name": "Python 3",
      "language": "python",
      "name": "python3"
    },
    "language_info": {
      "codemirror_mode": {
        "name": "ipython",
        "version": 3
      },
      "file_extension": ".py",
      "mimetype": "text/x-python",
      "name": "python",
      "nbconvert_exporter": "python",
      "pygments_lexer": "ipython3",
      "version": "3.8.3"
    },
    "colab": {
      "provenance": []
    }
  },
  "nbformat": 4,
  "nbformat_minor": 0
}