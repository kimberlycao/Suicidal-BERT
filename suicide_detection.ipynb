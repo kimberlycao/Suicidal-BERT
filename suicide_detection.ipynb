{
  "cells": [
    {
      "cell_type": "markdown",
      "source": [
        "# Install and Import Necessary Dependencies"
      ],
      "metadata": {
        "id": "ta2vkTx4-j_p"
      }
    },
    {
      "cell_type": "code",
      "execution_count": null,
      "metadata": {
        "scrolled": true,
        "id": "Gxo-WWsF5ccd"
      },
      "outputs": [],
      "source": [
        "!pip install torch\n",
        "!pip install transformers pandas numpy"
      ]
    },
    {
      "cell_type": "code",
      "execution_count": 4,
      "metadata": {
        "id": "pdXdqlvq5ccg"
      },
      "outputs": [],
      "source": [
        "from transformers import AutoTokenizer, AutoModelForSequenceClassification\n",
        "import torch\n",
        "import re"
      ]
    }
  ],
  "metadata": {
    "kernelspec": {
      "display_name": "Python 3",
      "language": "python",
      "name": "python3"
    },
    "language_info": {
      "codemirror_mode": {
        "name": "ipython",
        "version": 3
      },
      "file_extension": ".py",
      "mimetype": "text/x-python",
      "name": "python",
      "nbconvert_exporter": "python",
      "pygments_lexer": "ipython3",
      "version": "3.8.3"
    },
    "colab": {
      "provenance": []
    }
  },
  "nbformat": 4,
  "nbformat_minor": 0
}